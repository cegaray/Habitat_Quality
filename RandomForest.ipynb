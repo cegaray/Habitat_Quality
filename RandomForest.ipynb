{
 "cells": [
  {
   "cell_type": "markdown",
   "id": "6806a2bd",
   "metadata": {},
   "source": [
    "# Automated RandomForest based on raster and shapefile data\n",
    "\n",
    "The following code runs an automated Random Forest classifier for pixel value based on the extraction of features from source rasters (variable to be predicted variables) and rasters for the variables you want to use to predict.\n",
    "\n",
    "It is divided into three main sections. Each section will ask you to provide additional information for the process. Please respond according to the question. Most of them are yes/no questions (you must answer literally and in lower case) or a menu of options. In the latter case, you will be required to write the number corresponding to the option you prefer.\n",
    "\n",
    "The following is a list of the sections and the required files to run it:\n",
    "\n",
    "* **Extracting data** : This section loads the necessary libraries for the whole code. It also requires:\n",
    "     * A source raster with the projection you will use for all the process.\n",
    "     * The set of rasters you will use to create the model. They don't need to have the same projection as the source file (the code will automatically reproject them), but the extension of the source raster MUST BE WITHIN THE EXTENTION OF ALL THE OTHER RASTERS.\n",
    "     * A points shapefile  (shp) with a field named 'id' that contains an integer identifier for each of the points on the raster you want to use to create the model.\n",
    "     * That you choose a name for a text file to store the data for the construction of the model.\n",
    "         * The output of this section is a file containing the database of extracted values for the model.\n",
    "\n",
    "* **Random Forest** : This section constructs the model. It also requires:\n",
    "    * A name for the file where the information of the model is stored.\n",
    "    * That you select what is your target variable in the model (what you want to predict) and the variables you want to use to predict such a value.\n",
    "    * That you choose the number of cores you want to use for running the code (we recommend you to leave at least one core out of the process, sou you can use your computer while the code is running).\n",
    "    * That you choose the number of trees for the forest. If you are unsure of the number of trees, use 150, run all the code and then, use the plot of error vs number of trees to assess a proper forest size. Then, run this section again.\n",
    "        * The output of this section is the Random Forest model.\n",
    "* **Predicting values**: This section uses the constructed model to predict future values based on a set of predictive variables. In this case, you MUST have the rasters containing such variables stored within a folder named *futurerastes*. That folder has to be in the same directory where this code is bein runned. These rasters have to be in the same projection as your shapefile. It also requires:\n",
    "    * That ALL the raster you will use to predict have THE EXACT SAME NAME as those you used to create the model in the previous section.\n",
    "    * That you choose a name for a text file to store the data for the variables to predict the target values.\n",
    "    * That you select how you want to call the target variable in the final database file you will use to rasterize the prediction (it can be any name you want; please avoid starting with numbers, using spaced or hyphens).\n",
    "        * The output of this section is a text file with the predicted values for each point of the shapefile corresponding to a position in the raster file). It will also produce:\n",
    "            * A plot of importance for each variable.\n",
    "            * A plot of error vs number of trees. For this value, you must select a maximum number of trees to test. It must be higher than 16, the minimum number of trees is fixed in 15. This operation can take some time (depending on the maximum number of trees), so grab a cup of coffee after you start running it. \n",
    "    "
   ]
  },
  {
   "cell_type": "markdown",
   "id": "eada1c0e",
   "metadata": {
    "jupyter": {
     "source_hidden": true
    },
    "tags": []
   },
   "source": [
    "# Extracting data"
   ]
  },
  {
   "cell_type": "code",
   "execution_count": 1,
   "id": "7c1877f2",
   "metadata": {
    "tags": []
   },
   "outputs": [
    {
     "name": "stdout",
     "output_type": "stream",
     "text": [
      "You already ran me dude!\n"
     ]
    }
   ],
   "source": [
    "from datetime import datetime\n",
    "import os\n",
    "import urllib\n",
    "import rasterio\n",
    "import numpy as np\n",
    "import rasterio\n",
    "from rasterio.warp import calculate_default_transform, reproject, Resampling\n",
    "import time\n",
    "import matplotlib.pyplot as plt\n",
    "import geopandas as gpd\n",
    "import earthpy as et\n",
    "import earthpy.spatial as es\n",
    "import time\n",
    "import requests\n",
    "from rasterio.plot import show\n",
    "from tempfile import mkdtemp\n",
    "from rasterio import Affine\n",
    "from rasterio import windows\n",
    "import math\n",
    "import subprocess\n",
    "import shutil\n",
    "from osgeo import gdal, ogr\n",
    "import pandas as pd\n",
    "from osgeo import osr\n",
    "import pyinputplus as pyput\n",
    "from math import floor\n",
    "import pandas as pd\n",
    "import struct\n",
    "from csv import DictWriter\n",
    "import datetime\n",
    "import math\n",
    "from sklearn.ensemble import RandomForestClassifier\n",
    "import matplotlib.pyplot as plt\n",
    "from collections import OrderedDict\n",
    "import numpy as np\n",
    "import multiprocessing\n",
    "print('You already ran me dude!')"
   ]
  },
  {
   "cell_type": "code",
   "execution_count": 2,
   "id": "f08e4d5f",
   "metadata": {
    "scrolled": true,
    "tags": []
   },
   "outputs": [
    {
     "name": "stdout",
     "output_type": "stream",
     "text": [
      "Please, select a reference file (I will use it to project all raster to its CRS)\n",
      "1. bosque.tif\n",
      "2. hidrcarb.tif\n",
      "3. idp.tif\n",
      "4. lulc.tif\n",
      "5. mineria.tif\n",
      "6. palma.tif\n",
      "7. pastos.tif\n",
      "8. precip.tif\n",
      "9. tmp.tif\n",
      "10. ttravel.tif\n",
      "4\n",
      "You already ran me dude!\n"
     ]
    }
   ],
   "source": [
    "directorio=os.getcwd()\n",
    "reference=pyput.inputMenu(prompt='Please, select a reference file (I will use it to project all raster to its CRS)\\n', choices=[file for file in os.listdir() if '.tif' in file], numbered=True)\n",
    "print('You already ran me dude!')"
   ]
  },
  {
   "cell_type": "code",
   "execution_count": 6,
   "id": "eb9d0d52",
   "metadata": {
    "tags": []
   },
   "outputs": [
    {
     "name": "stdout",
     "output_type": "stream",
     "text": [
      "Do you wish to reproject any mapno\n",
      "You already ran me dude!\n"
     ]
    }
   ],
   "source": [
    "d = gdal.Open(reference)\n",
    "proj = osr.SpatialReference(wkt=d.GetProjection())\n",
    "projcode_ref=proj.GetAttrValue('AUTHORITY',1)\n",
    "#if todos!='yes':\n",
    "alguno=pyput.inputYesNo(prompt='Do you wish to reproject any map')\n",
    "todos='no'\n",
    "if alguno=='no':\n",
    "    pass\n",
    "else:\n",
    "    todos=pyput.inputYesNo(prompt=f'Should I reproject all tif files in {directorio}? (yes/no)')\n",
    "if todos=='yes':\n",
    "    convertir=set([file for file in os.listdir() if '.tif' in file and '.aux' not in file])-{reference}\n",
    "    for archivo in convertir:\n",
    "        d = gdal.Open(archivo)\n",
    "        proj = osr.SpatialReference(wkt=d.GetProjection())\n",
    "        projcode_target=proj.GetAttrValue('AUTHORITY',1)\n",
    "        if projcode_ref != projcode_target:\n",
    "            archivoentrada=archivo\n",
    "            archivosalida='proj_'+archivo\n",
    "            resize=f'gdalwarp -s_srs EPSG:{projcode_target} -t_srs EPSG:{projcode_ref} -dstnodata -9999.0 -r near -of GTiff {archivoentrada} {archivosalida}'\n",
    "            subprocess.call(resize, shell=True)\n",
    "            os.remove(archivo)\n",
    "elif alguno=='yes':\n",
    "    target=pyput.inputMenu(prompt='Please, select a target file (I will use it to project all raster to its CRS)\\n', choices=list(set([file for file in os.listdir() if '.tif' in file])-{reference}), numbered=True)\n",
    "    d = gdal.Open(target)\n",
    "    proj = osr.SpatialReference(wkt=d.GetProjection())\n",
    "    projcode_target=proj.GetAttrValue('AUTHORITY',1)\n",
    "    archivoentrada=target\n",
    "    archivosalida='proj_'+target\n",
    "    resize=f'gdalwarp -s_srs EPSG:{projcode_target} -t_srs EPSG:{projcode_ref} -dstnodata -9999.0 -r near -of GTiff {archivoentrada} {archivosalida}'\n",
    "    subprocess.call(resize, shell=True)\n",
    "    os.remove(target)\n",
    "else:\n",
    "    pass\n",
    "    \n",
    "print('You already ran me dude!')"
   ]
  },
  {
   "cell_type": "code",
   "execution_count": 7,
   "id": "802778b9",
   "metadata": {
    "tags": []
   },
   "outputs": [
    {
     "name": "stdout",
     "output_type": "stream",
     "text": [
      "Please, give me a file name to store the data (is must finish in .txt or .csv)datatest.txt\n",
      "Please, write the name of the points shapefile (it must end with .shp and have the same crs that the target)ptest.shp\n",
      "You already ran me dude!\n"
     ]
    }
   ],
   "source": [
    "features = [file for file in os.listdir() if '.tif' in file and '.aux' not in file]\n",
    "columnames=[nombre.split('.')[0] for nombre in features]\n",
    "columnames.insert(0, 'id')\n",
    "archivodb=pyput.inputFilename(prompt='Please, give me a file name to store the data (is must finish in .txt or .csv)')\n",
    "pd.DataFrame(columns=columnames).to_csv(archivodb, index=False)\n",
    "\n",
    "def getrastervalue(rasters_list, feat, dbfile):\n",
    "    valores={}\n",
    "    feat_id = feat.GetField('id')\n",
    "    paravalores=list()\n",
    "    for feature in rasters_list:\n",
    "        src_ds=gdal.Open(feature) \n",
    "        gt=src_ds.GetGeoTransform()\n",
    "        rb=src_ds.GetRasterBand(1)\n",
    "        geom = feat.GetGeometryRef()\n",
    "        mx, my = geom.GetX(), geom.GetY()\n",
    "        px = int((mx - gt[0]) / gt[1])\n",
    "        py = int((my - gt[3]) / gt[5])\n",
    "        intval = rb.ReadAsArray(px, py, 1, 1)\n",
    "        paravalores.append(intval[0][0])\n",
    "        valores[feat_id]=paravalores\n",
    "    df=pd.DataFrame.from_dict(valores, orient='index')\n",
    "    f = open(dbfile, 'a')\n",
    "    df.to_csv(f, header=False)\n",
    "    f.close()\n",
    "    #return(valores)\n",
    "archivopuntos=pyput.inputFilename(prompt='Please, write the name of the points shapefile (it must end with .shp and have the same crs that the target)')\n",
    "hocico=ogr.Open(archivopuntos)\n",
    "lyr=hocico.GetLayer()\n",
    "\n",
    "\n",
    "for feat in lyr:\n",
    "    feat_id = feat.GetField('id')\n",
    "    getrastervalue(features, feat, archivodb)\n",
    "\n",
    "\n",
    "print('You already ran me dude!')"
   ]
  },
  {
   "cell_type": "markdown",
   "id": "38e84bb6",
   "metadata": {
    "jupyter": {
     "source_hidden": true
    },
    "tags": []
   },
   "source": [
    "# Random Forest"
   ]
  },
  {
   "cell_type": "code",
   "execution_count": 14,
   "id": "c4171855",
   "metadata": {
    "scrolled": false,
    "tags": []
   },
   "outputs": [
    {
     "name": "stdout",
     "output_type": "stream",
     "text": [
      "Please write the name of the file containing the training data for the modeldatatest.txt\n",
      "Please select a target variable (what you want to predict)\n",
      "1. bosque\n",
      "2. hidrcarb\n",
      "3. idp\n",
      "4. lulc\n",
      "5. mineria\n",
      "6. palma\n",
      "7. pastos\n",
      "8. precip\n",
      "9. tmp\n",
      "10. ttravel\n",
      "4\n",
      "You have not chosen explanatory variables for the model\n",
      "Please select a new variable to add\n",
      "1. bosque\n",
      "2. hidrcarb\n",
      "3. idp\n",
      "4. mineria\n",
      "5. palma\n",
      "6. pastos\n",
      "7. precip\n",
      "8. tmp\n",
      "9. ttravel\n",
      "1\n",
      "Do you want to add another variable?yes\n",
      "Explanatory variables for the model are:\n",
      "['bosque']\n",
      "Please select a new variable to add\n",
      "1. hidrcarb\n",
      "2. idp\n",
      "3. mineria\n",
      "4. palma\n",
      "5. pastos\n",
      "6. precip\n",
      "7. tmp\n",
      "8. ttravel\n",
      "1\n",
      "Do you want to add another variable?yes\n",
      "Explanatory variables for the model are:\n",
      "['bosque', 'hidrcarb']\n",
      "Please select a new variable to add\n",
      "1. idp\n",
      "2. mineria\n",
      "3. palma\n",
      "4. pastos\n",
      "5. precip\n",
      "6. tmp\n",
      "7. ttravel\n",
      "1\n",
      "Do you want to add another variable?yes\n",
      "Explanatory variables for the model are:\n",
      "['bosque', 'hidrcarb', 'idp']\n",
      "Please select a new variable to add\n",
      "1. mineria\n",
      "2. palma\n",
      "3. pastos\n",
      "4. precip\n",
      "5. tmp\n",
      "6. ttravel\n",
      "1\n",
      "Do you want to add another variable?yes\n",
      "Explanatory variables for the model are:\n",
      "['bosque', 'hidrcarb', 'idp', 'mineria']\n",
      "Please select a new variable to add\n",
      "1. palma\n",
      "2. pastos\n",
      "3. precip\n",
      "4. tmp\n",
      "5. ttravel\n",
      "1\n",
      "Do you want to add another variable?yes\n",
      "Explanatory variables for the model are:\n",
      "['bosque', 'hidrcarb', 'idp', 'mineria', 'palma']\n",
      "Please select a new variable to add\n",
      "1. pastos\n",
      "2. precip\n",
      "3. tmp\n",
      "4. ttravel\n",
      "1\n",
      "Do you want to add another variable?yes\n",
      "Explanatory variables for the model are:\n",
      "['bosque', 'hidrcarb', 'idp', 'mineria', 'palma', 'pastos']\n",
      "Please select a new variable to add\n",
      "1. precip\n",
      "2. tmp\n",
      "3. ttravel\n",
      "1\n",
      "Do you want to add another variable?yes\n",
      "Explanatory variables for the model are:\n",
      "['bosque', 'hidrcarb', 'idp', 'mineria', 'palma', 'pastos', 'precip']\n",
      "Please select a new variable to add\n",
      "1. tmp\n",
      "2. ttravel\n",
      "1\n",
      "Do you want to add another variable?yes\n",
      "Explanatory variables for the model are:\n",
      "['bosque', 'hidrcarb', 'idp', 'mineria', 'palma', 'pastos', 'precip', 'tmp']\n",
      "Please select a new variable to add\n",
      "1. ttravel\n",
      "1\n",
      "Do you want to add another variable?no\n",
      "You already ran me dude!\n"
     ]
    }
   ],
   "source": [
    "dbfile=pyput.inputFilename(prompt='Please write the name of the file containing the training data for the model')\n",
    "df=pd.read_csv(dbfile)\n",
    "variables=list(df.columns)\n",
    "variables.remove('id')\n",
    "Xvar=[]\n",
    "Yvar=pyput.inputMenu(prompt='Please select a target variable (what you want to predict)\\n', choices=variables, numbered=True)\n",
    "variables.remove(Yvar)\n",
    "anadirvar='yes'\n",
    "while anadirvar=='yes':\n",
    "    if len(Xvar)==0:\n",
    "        print('You have not chosen explanatory variables for the model')\n",
    "    else:\n",
    "        print('Explanatory variables for the model are:')\n",
    "        print(Xvar)\n",
    "    addvariable=pyput.inputMenu(prompt='Please select a new variable to add\\n', choices=variables, numbered=True, blank=True)\n",
    "    Xvar.append(addvariable)\n",
    "    variables.remove(addvariable)\n",
    "    anadirvar=pyput.inputYesNo(prompt='Do you want to add another variable?')\n",
    "print('You already ran me dude!')"
   ]
  },
  {
   "cell_type": "code",
   "execution_count": 15,
   "id": "0ea4d298",
   "metadata": {
    "tags": []
   },
   "outputs": [
    {
     "name": "stdout",
     "output_type": "stream",
     "text": [
      "You already ran me dude!\n"
     ]
    }
   ],
   "source": [
    "X_train= df.iloc[:math.floor(df.shape[0]*0.75)][Xvar]#select explanatory columns from df\n",
    "y_train=df.iloc[:math.floor(df.shape[0]*0.75)][Yvar]#select target variable from df\n",
    "X_test= df.iloc[math.floor(df.shape[0]*0.75):][Xvar]#select explanatory columns from df\n",
    "y_test=df.iloc[math.floor(df.shape[0]*0.75):][Yvar]#select target variable from df\n",
    "print('You already ran me dude!')"
   ]
  },
  {
   "cell_type": "code",
   "execution_count": 16,
   "id": "f52ee5f6",
   "metadata": {
    "tags": []
   },
   "outputs": [],
   "source": [
    "nucleos=multiprocessing.cpu_count()"
   ]
  },
  {
   "cell_type": "code",
   "execution_count": 17,
   "id": "8c951a03",
   "metadata": {
    "tags": []
   },
   "outputs": [
    {
     "name": "stdout",
     "output_type": "stream",
     "text": [
      "Please, write the number of trees you want to use in the forest150\n",
      "Please, write the number of cores you want to use for the processing of the model (you have 4 available, I recommend you to use 3)3\n",
      "If you do not know how many trees you should use for the forest, please run all the code and check the error vs number of trees plot, then run this section again.\n"
     ]
    }
   ],
   "source": [
    "forestsize=pyput.inputInt(prompt='Please, write the number of trees you want to use in the forest')\n",
    "coresnumber=pyput.inputInt(prompt=f'Please, write the number of cores you want to use for the processing of the model (you have {nucleos} available, I recommend you to use {nucleos-1})')\n",
    "print('If you do not know how many trees you should use for the forest, please run all the code and check the error vs number of trees plot, then run this section again.')"
   ]
  },
  {
   "cell_type": "code",
   "execution_count": 48,
   "id": "3655059b",
   "metadata": {
    "tags": []
   },
   "outputs": [
    {
     "name": "stdout",
     "output_type": "stream",
     "text": [
      "You already ran me dude!\n"
     ]
    }
   ],
   "source": [
    "clf = RandomForestClassifier(random_state=125, n_estimators=forestsize, oob_score=True)\n",
    "clf.fit(X_train, y_train)\n",
    "print('You already ran me dude!')"
   ]
  },
  {
   "cell_type": "code",
   "execution_count": 49,
   "id": "0ccbc374",
   "metadata": {
    "tags": []
   },
   "outputs": [
    {
     "name": "stdout",
     "output_type": "stream",
     "text": [
      "1.0\n",
      "This is the score of correct prediction from the training set\n"
     ]
    }
   ],
   "source": [
    "print(clf.score(X_train, y_train))\n",
    "print('This is the score of correct prediction from the training set')"
   ]
  },
  {
   "cell_type": "code",
   "execution_count": 50,
   "id": "b1bf2529",
   "metadata": {
    "tags": []
   },
   "outputs": [
    {
     "name": "stdout",
     "output_type": "stream",
     "text": [
      "0.6428571428571429\n",
      "This is the score of correct prediction from the test set\n"
     ]
    }
   ],
   "source": [
    "print(clf.score(X_test, y_test))\n",
    "print('This is the score of correct prediction from the test set')\n"
   ]
  },
  {
   "cell_type": "markdown",
   "id": "6dad9968",
   "metadata": {},
   "source": [
    "# Predicting future values"
   ]
  },
  {
   "cell_type": "code",
   "execution_count": 51,
   "id": "d925057b",
   "metadata": {
    "tags": []
   },
   "outputs": [
    {
     "name": "stdout",
     "output_type": "stream",
     "text": [
      "Please, give me a file name to store the data for 2050 (is must finish in .txt or .csv)datatest50.txt\n",
      "Please, write the name of the points shapefile (it must en with .shp and have the same crs that the target)ptest.shp\n",
      "You already ran me dude!\n"
     ]
    }
   ],
   "source": [
    "features = [os.path.join('futurerasters',file) for file in os.listdir('futurerasters') if '.tif' in file and '.aux' not in file]\n",
    "columnames=[nombre.split('.')[0] for nombre in features]\n",
    "columnames.insert(0, 'id')\n",
    "\n",
    "archivodb=pyput.inputFilename(prompt='Please, give me a file name to store the data for 2050 (is must finish in .txt or .csv)')\n",
    "\n",
    "pd.DataFrame(columns=columnames).to_csv(archivodb, index=False)\n",
    "\n",
    "def getrastervalue(rasters_list, feat, dbfile):\n",
    "    valores={}\n",
    "    feat_id = feat.GetField('id')\n",
    "    paravalores=list()\n",
    "    for feature in rasters_list:\n",
    "        src_ds=gdal.Open(feature) \n",
    "        gt=src_ds.GetGeoTransform()\n",
    "        rb=src_ds.GetRasterBand(1)\n",
    "        geom = feat.GetGeometryRef()\n",
    "        mx, my = geom.GetX(), geom.GetY()\n",
    "        px = int((mx - gt[0]) / gt[1])\n",
    "        py = int((my - gt[3]) / gt[5])\n",
    "        intval = rb.ReadAsArray(px, py, 1, 1)\n",
    "        paravalores.append(intval[0][0])\n",
    "        valores[feat_id]=paravalores\n",
    "    df=pd.DataFrame.from_dict(valores, orient='index')\n",
    "    f = open(dbfile, 'a')\n",
    "    df.to_csv(f, header=False)\n",
    "    f.close()\n",
    "    #return(valores)\n",
    "archivopuntos=pyput.inputFilename(prompt='Please, write the name of the points shapefile (it must en with .shp and have the same crs that the target)')\n",
    "hocico=ogr.Open(archivopuntos)\n",
    "lyr=hocico.GetLayer()\n",
    "\n",
    "#t1=datetime.datetime.now()\n",
    "for feat in lyr:\n",
    "    feat_id = feat.GetField('id')\n",
    "    getrastervalue(features, feat, archivodb)\n",
    "print('You already ran me dude!')"
   ]
  },
  {
   "cell_type": "code",
   "execution_count": null,
   "id": "958b6af8",
   "metadata": {
    "scrolled": true
   },
   "outputs": [],
   "source": [
    "'''reference=pyput.inputMenu(prompt='Please, select a reference file (I will use it to project all raster to its CRS)\\n', choices=[file for file in os.listdir() if '.tif' in file], numbered=True)\n",
    "d = gdal.Open(reference)\n",
    "proj = osr.SpatialReference(wkt=d.GetProjection())\n",
    "projcode_ref=proj.GetAttrValue('AUTHORITY',1)\n",
    "convertir=set([file for file in os.listdir('futurerasters') if '.tif' in file and '.aux' not in file])-{reference}\n",
    "for archivo in convertir:\n",
    "    archivo=os.path.join('futurerasters',archivo)\n",
    "    d = gdal.Open(archivo)\n",
    "    proj = osr.SpatialReference(wkt=d.GetProjection())\n",
    "    projcode_target=proj.GetAttrValue('AUTHORITY',1)\n",
    "    if projcode_ref != projcode_target:\n",
    "        archivoentrada=archivo\n",
    "        archivosalida='proj_'+archivo\n",
    "        resize=f'gdalwarp -s_srs EPSG:{projcode_target} -t_srs EPSG:{projcode_ref} -dstnodata -9999.0 -r near -of GTiff {archivoentrada} {archivosalida}'\n",
    "        subprocess.call(resize, shell=True)\n",
    "        os.remove(archivo)'''"
   ]
  },
  {
   "cell_type": "code",
   "execution_count": 52,
   "id": "ca0709f5",
   "metadata": {
    "tags": []
   },
   "outputs": [
    {
     "name": "stdout",
     "output_type": "stream",
     "text": [
      "You already ran me dude!\n"
     ]
    }
   ],
   "source": [
    "df1=pd.read_csv(archivodb)\n",
    "print('You already ran me dude!')"
   ]
  },
  {
   "cell_type": "code",
   "execution_count": 53,
   "id": "4edbc0f1",
   "metadata": {
    "tags": []
   },
   "outputs": [
    {
     "name": "stdout",
     "output_type": "stream",
     "text": [
      "You already ran me dude!\n"
     ]
    }
   ],
   "source": [
    "columnames1=[os.path.split(columna)[-1] if columna!='id' else columna for columna in df1.columns]\n",
    "df1.columns=columnames1\n",
    "df1\n",
    "print('You already ran me dude!')"
   ]
  },
  {
   "cell_type": "code",
   "execution_count": 54,
   "id": "c31f168b",
   "metadata": {
    "tags": []
   },
   "outputs": [
    {
     "name": "stdout",
     "output_type": "stream",
     "text": [
      "You already ran me dude!\n"
     ]
    }
   ],
   "source": [
    "df2=df1.drop(['id'], axis=1)\n",
    "print('You already ran me dude!')"
   ]
  },
  {
   "cell_type": "code",
   "execution_count": 55,
   "id": "5d5c7a93",
   "metadata": {
    "tags": []
   },
   "outputs": [
    {
     "name": "stdout",
     "output_type": "stream",
     "text": [
      "You already ran me dude!\n"
     ]
    }
   ],
   "source": [
    "X_pred=clf.predict(df2)\n",
    "print('You already ran me dude!')"
   ]
  },
  {
   "cell_type": "code",
   "execution_count": 56,
   "id": "ba2ee531",
   "metadata": {
    "tags": []
   },
   "outputs": [
    {
     "name": "stdout",
     "output_type": "stream",
     "text": [
      "You already ran me dude!\n"
     ]
    }
   ],
   "source": [
    "df3=pd.DataFrame(df1['id'])\n",
    "print('You already ran me dude!')"
   ]
  },
  {
   "cell_type": "code",
   "execution_count": 57,
   "id": "46dae7de",
   "metadata": {
    "tags": []
   },
   "outputs": [
    {
     "name": "stdout",
     "output_type": "stream",
     "text": [
      "Please, write the name of predicted variable (please, start with a letter and do not include spaces or hyphens)\n",
      "n3\n",
      "You already ran me dude!\n"
     ]
    }
   ],
   "source": [
    "predictedvar=pyput.inputFilename(prompt='Please, write the name of predicted variable (please, start with a letter and do not include spaces or hyphens)\\n')\n",
    "df3[predictedvar]=X_pred\n",
    "print('You already ran me dude!')"
   ]
  },
  {
   "cell_type": "code",
   "execution_count": 58,
   "id": "f6bec81d",
   "metadata": {
    "tags": []
   },
   "outputs": [
    {
     "name": "stdout",
     "output_type": "stream",
     "text": [
      "Please, write the name of the file to store the predictions (is must finish in .txt or .csv)lulc50t.txt\n",
      "You already ran me dude!\n"
     ]
    }
   ],
   "source": [
    "archivopredicted=pyput.inputFilename(prompt='Please, write the name of the file to store the predictions (is must finish in .txt or .csv)')\n",
    "df3.to_csv(archivopredicted, index=False)\n",
    "print('You already ran me dude!')"
   ]
  },
  {
   "cell_type": "code",
   "execution_count": 59,
   "id": "60dc923b",
   "metadata": {
    "tags": []
   },
   "outputs": [],
   "source": [
    "y=clf.feature_importances_"
   ]
  },
  {
   "cell_type": "code",
   "execution_count": 60,
   "id": "c0f71e43",
   "metadata": {
    "tags": []
   },
   "outputs": [],
   "source": [
    "x=df2.columns"
   ]
  },
  {
   "cell_type": "code",
   "execution_count": 61,
   "id": "079b7ccd",
   "metadata": {
    "tags": []
   },
   "outputs": [
    {
     "data": {
      "text/plain": [
       "([0, 1, 2, 3, 4, 5, 6, 7, 8], <a list of 9 Text major ticklabel objects>)"
      ]
     },
     "execution_count": 61,
     "metadata": {},
     "output_type": "execute_result"
    },
    {
     "data": {
      "image/png": "[encoded data removed]",
      "text/plain": [
       "<Figure size 432x288 with 1 Axes>"
      ]
     },
     "metadata": {
      "needs_background": "light"
     },
     "output_type": "display_data"
    }
   ],
   "source": [
    "plt.bar(x,y)\n",
    "plt.title('Importance of the variables for the prediction of pixel values')\n",
    "plt.xlabel('Variable')\n",
    "plt.ylabel('Importance')\n",
    "plt.xticks(rotation=90)"
   ]
  },
  {
   "cell_type": "code",
   "execution_count": 65,
   "id": "9e51833c",
   "metadata": {},
   "outputs": [
    {
     "data": {
      "image/png": "[encoded data removed]",
      "text/plain": [
       "<Figure size 432x288 with 1 Axes>"
      ]
     },
     "metadata": {
      "needs_background": "light"
     },
     "output_type": "display_data"
    },
    {
     "name": "stdout",
     "output_type": "stream",
     "text": [
      "0:04:06.298578\n"
     ]
    }
   ],
   "source": [
    "t1=datetime.datetime.now()\n",
    "min_estimators = 15\n",
    "max_estimators = 500\n",
    "error_rate={'Testo':[]}\n",
    "label='Testo'\n",
    "for i in range(min_estimators, max_estimators + 1):\n",
    "        clf.set_params(n_estimators=i, n_jobs=-2)\n",
    "        clf.fit(X_train, y_train)\n",
    "\n",
    "        # Record the OOB error for each `n_estimators=i` setting.\n",
    "        oob_error = 1 - clf.oob_score_\n",
    "        error_rate[label].append((i, oob_error))\n",
    "\n",
    "# Generate the \"OOB error rate\" vs. \"n_estimators\" plot.\n",
    "for label, clf_err in error_rate.items():\n",
    "    xs, ys = zip(*clf_err)\n",
    "    plt.plot(xs, ys, label=label)\n",
    "\n",
    "plt.xlim(min_estimators, max_estimators)\n",
    "plt.xlabel(\"n_estimators\")\n",
    "plt.ylabel(\"OOB error rate\")\n",
    "plt.legend(loc=\"upper right\")\n",
    "plt.show()\n",
    "t2=datetime.datetime.now()\n",
    "print(t2-t1)"
   ]
  },
  {
   "cell_type": "code",
   "execution_count": null,
   "id": "4b5ecc77",
   "metadata": {},
   "outputs": [],
   "source": [
    "''''silenciame''''"
   ]
  }
 ],
 "metadata": {
  "kernelspec": {
   "display_name": "Python 3",
   "language": "python",
   "name": "python3"
  },
  "language_info": {
   "codemirror_mode": {
    "name": "ipython",
    "version": 3
   },
   "file_extension": ".py",
   "mimetype": "text/x-python",
   "name": "python",
   "nbconvert_exporter": "python",
   "pygments_lexer": "ipython3",
   "version": "3.7.11"
  }
 },
 "nbformat": 4,
 "nbformat_minor": 5
}
